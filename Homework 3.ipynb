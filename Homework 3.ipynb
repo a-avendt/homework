{
 "cells": [
  {
   "cell_type": "code",
   "execution_count": 1,
   "id": "bbbb2d77",
   "metadata": {},
   "outputs": [],
   "source": [
    "#Q1\n",
    "marks = {\"Andy\":88, \"Amy\":66, \"James\":90, \"Jules\":55, \"Arthur\":77}"
   ]
  },
  {
   "cell_type": "code",
   "execution_count": 2,
   "id": "df06a234",
   "metadata": {},
   "outputs": [],
   "source": [
    "#Q1.1\n",
    "def my_function(name):\n",
    "    for key, value in marks.items():\n",
    "        if name == key:\n",
    "            return value\n",
    "           \n",
    "    print(\"Name could not be found\")"
   ]
  },
  {
   "cell_type": "code",
   "execution_count": 3,
   "id": "8d751c07",
   "metadata": {},
   "outputs": [
    {
     "name": "stdout",
     "output_type": "stream",
     "text": [
      "Name could not be found\n"
     ]
    }
   ],
   "source": [
    "my_function(\"Drew\")"
   ]
  },
  {
   "cell_type": "code",
   "execution_count": 4,
   "id": "f047e9bb",
   "metadata": {},
   "outputs": [
    {
     "data": {
      "text/plain": [
       "90"
      ]
     },
     "execution_count": 4,
     "metadata": {},
     "output_type": "execute_result"
    }
   ],
   "source": [
    "my_function(\"James\")"
   ]
  },
  {
   "cell_type": "code",
   "execution_count": 5,
   "id": "da72a7e3",
   "metadata": {},
   "outputs": [
    {
     "data": {
      "text/plain": [
       "66"
      ]
     },
     "execution_count": 5,
     "metadata": {},
     "output_type": "execute_result"
    }
   ],
   "source": [
    "my_function(\"Amy\")"
   ]
  },
  {
   "cell_type": "code",
   "execution_count": 8,
   "id": "a642d1c3",
   "metadata": {},
   "outputs": [
    {
     "data": {
      "text/plain": [
       "75.2"
      ]
     },
     "execution_count": 8,
     "metadata": {},
     "output_type": "execute_result"
    }
   ],
   "source": [
    "#Q1.2\n",
    "def avg_function(marks):\n",
    "    avg = sum(marks.values()) / len(marks)\n",
    "    return avg\n",
    "\n",
    "avg_function(marks)\n"
   ]
  },
  {
   "cell_type": "code",
   "execution_count": 9,
   "id": "14341453",
   "metadata": {},
   "outputs": [
    {
     "name": "stdout",
     "output_type": "stream",
     "text": [
      "10 is greater than 8\n"
     ]
    }
   ],
   "source": [
    "#Q2\n",
    "num = 8\n",
    "def new_function(n):\n",
    "    while n < num:\n",
    "        return n, n*n\n",
    "        break\n",
    "    print(n,'is greater than', num)\n",
    "    \n",
    "new_function(10)"
   ]
  },
  {
   "cell_type": "code",
   "execution_count": 10,
   "id": "e2840c35",
   "metadata": {},
   "outputs": [
    {
     "data": {
      "text/plain": [
       "(5, 25)"
      ]
     },
     "execution_count": 10,
     "metadata": {},
     "output_type": "execute_result"
    }
   ],
   "source": [
    "new_function(5)"
   ]
  },
  {
   "cell_type": "code",
   "execution_count": 11,
   "id": "289b5b63",
   "metadata": {},
   "outputs": [
    {
     "data": {
      "text/plain": [
       "21"
      ]
     },
     "execution_count": 11,
     "metadata": {},
     "output_type": "execute_result"
    }
   ],
   "source": [
    "#Q3\n",
    "def adding(num):\n",
    "    total = 0\n",
    "    n = 0\n",
    "    while n < num:\n",
    "        total = total + n\n",
    "        n = n + 1\n",
    "    return total\n",
    "\n",
    "adding(7)"
   ]
  },
  {
   "cell_type": "code",
   "execution_count": 13,
   "id": "fe8ee80f",
   "metadata": {},
   "outputs": [
    {
     "name": "stdout",
     "output_type": "stream",
     "text": [
      "total at iteration 1 : 0\n",
      "total at iteration 2 : 1\n",
      "total at iteration 3 : 3\n",
      "total at iteration 4 : 6\n",
      "total at iteration 5 : 10\n",
      "total at iteration 6 : 15\n",
      "total at iteration 7 : 21\n"
     ]
    }
   ],
   "source": [
    "#Q4\n",
    "def new_adding(num):\n",
    "    total = 0\n",
    "    for n in range(0,num):\n",
    "        total = total + n\n",
    "        n = n + 1\n",
    "        print(\"total at iteration\", n,\":\", total)\n",
    "\n",
    "new_adding(7)"
   ]
  },
  {
   "cell_type": "code",
   "execution_count": 14,
   "id": "06f1a6b6",
   "metadata": {},
   "outputs": [
    {
     "name": "stdout",
     "output_type": "stream",
     "text": [
      "[1, 2, 3, 4, 5, 6, 7, 8, 9, 10, 11, 12, 13, 14, 15, 16, 17, 18, 19, 20, 21, 22, 23, 24, 25, 26, 27, 28, 29, 30, 31, 32, 33, 34, 35, 36, 37, 38, 39, 40, 41, 42, 43, 44, 45, 46, 47, 48, 49, 50, 51, 52, 53, 54, 55, 56, 57, 58, 59, 60, 61, 62, 63, 64, 65, 66, 67, 68, 69, 70, 71, 72, 73, 74, 75, 76, 77, 78, 79, 80, 81, 82, 83, 84, 85, 86, 87, 88, 89, 90, 91, 92, 93, 94, 95, 96, 97, 98, 99]\n",
      "Sum: 4950\n",
      "Mean: 50.0\n",
      "Standard Deviation: 28.577380332470412\n"
     ]
    }
   ],
   "source": [
    "#Q5\n",
    "import numpy as np\n",
    "mylist = []\n",
    "for number in range(1,100):\n",
    "    mylist += [number]\n",
    "\n",
    "def stat_analysis(n):\n",
    "    print(\"Sum:\", sum(mylist))\n",
    "    mean = ((sum(mylist))/len(mylist))\n",
    "    print(\"Mean:\", mean)\n",
    "    print(\"Standard Deviation:\", np.std(mylist))\n",
    "\n",
    "print(mylist)\n",
    "stat_analysis(mylist)"
   ]
  },
  {
   "cell_type": "code",
   "execution_count": 15,
   "id": "75cec6bc",
   "metadata": {},
   "outputs": [
    {
     "data": {
      "text/plain": [
       "12"
      ]
     },
     "execution_count": 15,
     "metadata": {},
     "output_type": "execute_result"
    }
   ],
   "source": [
    "#Q6.1\n",
    "def minimum(v1, v2, v3, v4):\n",
    "    min_val = v1\n",
    "    if v2 < min_val:\n",
    "        min_val = v2\n",
    "    if v3 < min_val:\n",
    "        min_val = v3\n",
    "    if v4 < min_val:\n",
    "        min_val = v4\n",
    "    return min_val\n",
    "\n",
    "minimum(800, 500, 89, 12)"
   ]
  },
  {
   "cell_type": "code",
   "execution_count": 16,
   "id": "2b201f0d",
   "metadata": {},
   "outputs": [
    {
     "data": {
      "text/plain": [
       "4"
      ]
     },
     "execution_count": 16,
     "metadata": {},
     "output_type": "execute_result"
    }
   ],
   "source": [
    "#Q6.2\n",
    "def final(v1, v2, v3, v4):\n",
    "    new = minimum(v1, v2, v3, v4)\n",
    "    Print(new)\n",
    "\n",
    "final(4, 6, 90, 70)"
   ]
  },
  {
   "cell_type": "code",
   "execution_count": null,
   "id": "9d217a0f",
   "metadata": {},
   "outputs": [],
   "source": []
  }
 ],
 "metadata": {
  "kernelspec": {
   "display_name": "Python 3 (ipykernel)",
   "language": "python",
   "name": "python3"
  },
  "language_info": {
   "codemirror_mode": {
    "name": "ipython",
    "version": 3
   },
   "file_extension": ".py",
   "mimetype": "text/x-python",
   "name": "python",
   "nbconvert_exporter": "python",
   "pygments_lexer": "ipython3",
   "version": "3.9.7"
  }
 },
 "nbformat": 4,
 "nbformat_minor": 5
}
