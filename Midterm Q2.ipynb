{
 "cells": [
  {
   "cell_type": "code",
   "execution_count": 9,
   "id": "97bbdc19",
   "metadata": {},
   "outputs": [
    {
     "data": {
      "text/html": [
       "<div>\n",
       "<style scoped>\n",
       "    .dataframe tbody tr th:only-of-type {\n",
       "        vertical-align: middle;\n",
       "    }\n",
       "\n",
       "    .dataframe tbody tr th {\n",
       "        vertical-align: top;\n",
       "    }\n",
       "\n",
       "    .dataframe thead th {\n",
       "        text-align: right;\n",
       "    }\n",
       "</style>\n",
       "<table border=\"1\" class=\"dataframe\">\n",
       "  <thead>\n",
       "    <tr style=\"text-align: right;\">\n",
       "      <th></th>\n",
       "      <th>Order Date</th>\n",
       "      <th>Order ID</th>\n",
       "      <th>Payment Instrument Type</th>\n",
       "      <th>Website</th>\n",
       "      <th>Purchase Order Number</th>\n",
       "      <th>Ordering Customer Email</th>\n",
       "      <th>Shipment Date</th>\n",
       "      <th>Shipping Address Name</th>\n",
       "      <th>Shipping Address Street 1</th>\n",
       "      <th>Shipping Address Street 2</th>\n",
       "      <th>...</th>\n",
       "      <th>Order Status</th>\n",
       "      <th>Carrier Name &amp; Tracking Number</th>\n",
       "      <th>Subtotal</th>\n",
       "      <th>Shipping Charge</th>\n",
       "      <th>Tax Before Promotions</th>\n",
       "      <th>Total Promotions</th>\n",
       "      <th>Tax Charged</th>\n",
       "      <th>Total Charged</th>\n",
       "      <th>Buyer Name</th>\n",
       "      <th>Group Name</th>\n",
       "    </tr>\n",
       "  </thead>\n",
       "  <tbody>\n",
       "    <tr>\n",
       "      <th>0</th>\n",
       "      <td>04/01/19</td>\n",
       "      <td>112-0000000-0000001</td>\n",
       "      <td>Visa - 0001</td>\n",
       "      <td>Amazon.com</td>\n",
       "      <td>NaN</td>\n",
       "      <td>your_email@gmail.com</td>\n",
       "      <td>04/01/19</td>\n",
       "      <td>Your Name</td>\n",
       "      <td>1 YOUR STREET</td>\n",
       "      <td>NaN</td>\n",
       "      <td>...</td>\n",
       "      <td>Shipped</td>\n",
       "      <td>USPS(0001)</td>\n",
       "      <td>$35.00</td>\n",
       "      <td>$0.00</td>\n",
       "      <td>$1.93</td>\n",
       "      <td>$0.00</td>\n",
       "      <td>$1.93</td>\n",
       "      <td>$36.93</td>\n",
       "      <td>Your Name</td>\n",
       "      <td>NaN</td>\n",
       "    </tr>\n",
       "    <tr>\n",
       "      <th>1</th>\n",
       "      <td>04/01/19</td>\n",
       "      <td>112-0000000-0000002</td>\n",
       "      <td>Visa - 0001</td>\n",
       "      <td>Amazon.com</td>\n",
       "      <td>NaN</td>\n",
       "      <td>your_email@gmail.com</td>\n",
       "      <td>04/01/19</td>\n",
       "      <td>Your Name</td>\n",
       "      <td>1 YOUR STREET</td>\n",
       "      <td>NaN</td>\n",
       "      <td>...</td>\n",
       "      <td>Shipped</td>\n",
       "      <td>USPS(0001)</td>\n",
       "      <td>$16.99</td>\n",
       "      <td>$0.00</td>\n",
       "      <td>$0.00</td>\n",
       "      <td>$0.00</td>\n",
       "      <td>$0.00</td>\n",
       "      <td>$16.99</td>\n",
       "      <td>Your Name</td>\n",
       "      <td>NaN</td>\n",
       "    </tr>\n",
       "    <tr>\n",
       "      <th>2</th>\n",
       "      <td>04/01/19</td>\n",
       "      <td>112-0000000-0000003</td>\n",
       "      <td>Visa - 0001</td>\n",
       "      <td>Amazon.com</td>\n",
       "      <td>NaN</td>\n",
       "      <td>your_email@gmail.com</td>\n",
       "      <td>04/01/19</td>\n",
       "      <td>Your Name</td>\n",
       "      <td>1 YOUR STREET</td>\n",
       "      <td>NaN</td>\n",
       "      <td>...</td>\n",
       "      <td>Shipped</td>\n",
       "      <td>USPS(0001)</td>\n",
       "      <td>$9.99</td>\n",
       "      <td>$0.00</td>\n",
       "      <td>$0.00</td>\n",
       "      <td>$0.00</td>\n",
       "      <td>$0.00</td>\n",
       "      <td>$9.99</td>\n",
       "      <td>Your Name</td>\n",
       "      <td>NaN</td>\n",
       "    </tr>\n",
       "    <tr>\n",
       "      <th>3</th>\n",
       "      <td>04/04/19</td>\n",
       "      <td>112-0000000-0000004</td>\n",
       "      <td>Visa - 0001</td>\n",
       "      <td>Amazon.com</td>\n",
       "      <td>NaN</td>\n",
       "      <td>your_email@gmail.com</td>\n",
       "      <td>04/05/19</td>\n",
       "      <td>Your Name</td>\n",
       "      <td>1 YOUR STREET</td>\n",
       "      <td>NaN</td>\n",
       "      <td>...</td>\n",
       "      <td>Shipped</td>\n",
       "      <td>UPS(0002)</td>\n",
       "      <td>$147.98</td>\n",
       "      <td>$0.00</td>\n",
       "      <td>$8.14</td>\n",
       "      <td>$0.00</td>\n",
       "      <td>$8.14</td>\n",
       "      <td>$156.12</td>\n",
       "      <td>Your Name</td>\n",
       "      <td>NaN</td>\n",
       "    </tr>\n",
       "    <tr>\n",
       "      <th>4</th>\n",
       "      <td>04/05/19</td>\n",
       "      <td>112-0000000-0000005</td>\n",
       "      <td>Visa - 0001</td>\n",
       "      <td>Amazon.com</td>\n",
       "      <td>NaN</td>\n",
       "      <td>your_email@gmail.com</td>\n",
       "      <td>04/07/19</td>\n",
       "      <td>Your Name</td>\n",
       "      <td>1 YOUR STREET</td>\n",
       "      <td>NaN</td>\n",
       "      <td>...</td>\n",
       "      <td>Shipped</td>\n",
       "      <td>USPS(0001)</td>\n",
       "      <td>$14.99</td>\n",
       "      <td>$0.00</td>\n",
       "      <td>$0.00</td>\n",
       "      <td>$0.00</td>\n",
       "      <td>$0.00</td>\n",
       "      <td>$14.99</td>\n",
       "      <td>Your Name</td>\n",
       "      <td>NaN</td>\n",
       "    </tr>\n",
       "  </tbody>\n",
       "</table>\n",
       "<p>5 rows × 23 columns</p>\n",
       "</div>"
      ],
      "text/plain": [
       "  Order Date             Order ID Payment Instrument Type     Website  \\\n",
       "0   04/01/19  112-0000000-0000001             Visa - 0001  Amazon.com   \n",
       "1   04/01/19  112-0000000-0000002             Visa - 0001  Amazon.com   \n",
       "2   04/01/19  112-0000000-0000003             Visa - 0001  Amazon.com   \n",
       "3   04/04/19  112-0000000-0000004             Visa - 0001  Amazon.com   \n",
       "4   04/05/19  112-0000000-0000005             Visa - 0001  Amazon.com   \n",
       "\n",
       "   Purchase Order Number Ordering Customer Email Shipment Date  \\\n",
       "0                    NaN    your_email@gmail.com      04/01/19   \n",
       "1                    NaN    your_email@gmail.com      04/01/19   \n",
       "2                    NaN    your_email@gmail.com      04/01/19   \n",
       "3                    NaN    your_email@gmail.com      04/05/19   \n",
       "4                    NaN    your_email@gmail.com      04/07/19   \n",
       "\n",
       "  Shipping Address Name Shipping Address Street 1  Shipping Address Street 2  \\\n",
       "0             Your Name             1 YOUR STREET                        NaN   \n",
       "1             Your Name             1 YOUR STREET                        NaN   \n",
       "2             Your Name             1 YOUR STREET                        NaN   \n",
       "3             Your Name             1 YOUR STREET                        NaN   \n",
       "4             Your Name             1 YOUR STREET                        NaN   \n",
       "\n",
       "   ... Order Status Carrier Name & Tracking Number Subtotal Shipping Charge  \\\n",
       "0  ...      Shipped                     USPS(0001)   $35.00           $0.00   \n",
       "1  ...      Shipped                     USPS(0001)   $16.99           $0.00   \n",
       "2  ...      Shipped                     USPS(0001)    $9.99           $0.00   \n",
       "3  ...      Shipped                      UPS(0002)  $147.98           $0.00   \n",
       "4  ...      Shipped                     USPS(0001)   $14.99           $0.00   \n",
       "\n",
       "  Tax Before Promotions Total Promotions Tax Charged Total Charged Buyer Name  \\\n",
       "0                 $1.93            $0.00       $1.93        $36.93  Your Name   \n",
       "1                 $0.00            $0.00       $0.00        $16.99  Your Name   \n",
       "2                 $0.00            $0.00       $0.00         $9.99  Your Name   \n",
       "3                 $8.14            $0.00       $8.14       $156.12  Your Name   \n",
       "4                 $0.00            $0.00       $0.00        $14.99  Your Name   \n",
       "\n",
       "  Group Name  \n",
       "0        NaN  \n",
       "1        NaN  \n",
       "2        NaN  \n",
       "3        NaN  \n",
       "4        NaN  \n",
       "\n",
       "[5 rows x 23 columns]"
      ]
     },
     "execution_count": 9,
     "metadata": {},
     "output_type": "execute_result"
    }
   ],
   "source": [
    "#importing pandas and reading the file \n",
    "import pandas as pd\n",
    "df = pd.read_csv('amazon-orders.csv')\n",
    "df.head() #this gets the first 5 rows, and just lets me check to make sure I've done things right"
   ]
  },
  {
   "cell_type": "code",
   "execution_count": 10,
   "id": "5e2ad330",
   "metadata": {},
   "outputs": [
    {
     "data": {
      "text/plain": [
       "(59, 23)"
      ]
     },
     "execution_count": 10,
     "metadata": {},
     "output_type": "execute_result"
    }
   ],
   "source": [
    "#seeing how big the file is\n",
    "df.shape"
   ]
  },
  {
   "cell_type": "code",
   "execution_count": 11,
   "id": "dbba555d",
   "metadata": {},
   "outputs": [
    {
     "data": {
      "text/html": [
       "<div>\n",
       "<style scoped>\n",
       "    .dataframe tbody tr th:only-of-type {\n",
       "        vertical-align: middle;\n",
       "    }\n",
       "\n",
       "    .dataframe tbody tr th {\n",
       "        vertical-align: top;\n",
       "    }\n",
       "\n",
       "    .dataframe thead th {\n",
       "        text-align: right;\n",
       "    }\n",
       "</style>\n",
       "<table border=\"1\" class=\"dataframe\">\n",
       "  <thead>\n",
       "    <tr style=\"text-align: right;\">\n",
       "      <th></th>\n",
       "      <th>Order Date</th>\n",
       "      <th>Order ID</th>\n",
       "      <th>Payment Instrument Type</th>\n",
       "      <th>Website</th>\n",
       "      <th>Purchase Order Number</th>\n",
       "      <th>Ordering Customer Email</th>\n",
       "      <th>Shipment Date</th>\n",
       "      <th>Shipping Address Name</th>\n",
       "      <th>Shipping Address Street 1</th>\n",
       "      <th>Shipping Address Street 2</th>\n",
       "      <th>...</th>\n",
       "      <th>Order Status</th>\n",
       "      <th>Carrier Name &amp; Tracking Number</th>\n",
       "      <th>Subtotal</th>\n",
       "      <th>Shipping Charge</th>\n",
       "      <th>Tax Before Promotions</th>\n",
       "      <th>Total Promotions</th>\n",
       "      <th>Tax Charged</th>\n",
       "      <th>Total Charged</th>\n",
       "      <th>Buyer Name</th>\n",
       "      <th>Group Name</th>\n",
       "    </tr>\n",
       "  </thead>\n",
       "  <tbody>\n",
       "    <tr>\n",
       "      <th>0</th>\n",
       "      <td>04/01/19</td>\n",
       "      <td>112-0000000-0000001</td>\n",
       "      <td>Visa - 0001</td>\n",
       "      <td>Amazon.com</td>\n",
       "      <td>0.0</td>\n",
       "      <td>your_email@gmail.com</td>\n",
       "      <td>04/01/19</td>\n",
       "      <td>Your Name</td>\n",
       "      <td>1 YOUR STREET</td>\n",
       "      <td>0.0</td>\n",
       "      <td>...</td>\n",
       "      <td>Shipped</td>\n",
       "      <td>USPS(0001)</td>\n",
       "      <td>$35.00</td>\n",
       "      <td>$0.00</td>\n",
       "      <td>$1.93</td>\n",
       "      <td>$0.00</td>\n",
       "      <td>$1.93</td>\n",
       "      <td>$36.93</td>\n",
       "      <td>Your Name</td>\n",
       "      <td>0.0</td>\n",
       "    </tr>\n",
       "    <tr>\n",
       "      <th>1</th>\n",
       "      <td>04/01/19</td>\n",
       "      <td>112-0000000-0000002</td>\n",
       "      <td>Visa - 0001</td>\n",
       "      <td>Amazon.com</td>\n",
       "      <td>0.0</td>\n",
       "      <td>your_email@gmail.com</td>\n",
       "      <td>04/01/19</td>\n",
       "      <td>Your Name</td>\n",
       "      <td>1 YOUR STREET</td>\n",
       "      <td>0.0</td>\n",
       "      <td>...</td>\n",
       "      <td>Shipped</td>\n",
       "      <td>USPS(0001)</td>\n",
       "      <td>$16.99</td>\n",
       "      <td>$0.00</td>\n",
       "      <td>$0.00</td>\n",
       "      <td>$0.00</td>\n",
       "      <td>$0.00</td>\n",
       "      <td>$16.99</td>\n",
       "      <td>Your Name</td>\n",
       "      <td>0.0</td>\n",
       "    </tr>\n",
       "    <tr>\n",
       "      <th>2</th>\n",
       "      <td>04/01/19</td>\n",
       "      <td>112-0000000-0000003</td>\n",
       "      <td>Visa - 0001</td>\n",
       "      <td>Amazon.com</td>\n",
       "      <td>0.0</td>\n",
       "      <td>your_email@gmail.com</td>\n",
       "      <td>04/01/19</td>\n",
       "      <td>Your Name</td>\n",
       "      <td>1 YOUR STREET</td>\n",
       "      <td>0.0</td>\n",
       "      <td>...</td>\n",
       "      <td>Shipped</td>\n",
       "      <td>USPS(0001)</td>\n",
       "      <td>$9.99</td>\n",
       "      <td>$0.00</td>\n",
       "      <td>$0.00</td>\n",
       "      <td>$0.00</td>\n",
       "      <td>$0.00</td>\n",
       "      <td>$9.99</td>\n",
       "      <td>Your Name</td>\n",
       "      <td>0.0</td>\n",
       "    </tr>\n",
       "    <tr>\n",
       "      <th>3</th>\n",
       "      <td>04/04/19</td>\n",
       "      <td>112-0000000-0000004</td>\n",
       "      <td>Visa - 0001</td>\n",
       "      <td>Amazon.com</td>\n",
       "      <td>0.0</td>\n",
       "      <td>your_email@gmail.com</td>\n",
       "      <td>04/05/19</td>\n",
       "      <td>Your Name</td>\n",
       "      <td>1 YOUR STREET</td>\n",
       "      <td>0.0</td>\n",
       "      <td>...</td>\n",
       "      <td>Shipped</td>\n",
       "      <td>UPS(0002)</td>\n",
       "      <td>$147.98</td>\n",
       "      <td>$0.00</td>\n",
       "      <td>$8.14</td>\n",
       "      <td>$0.00</td>\n",
       "      <td>$8.14</td>\n",
       "      <td>$156.12</td>\n",
       "      <td>Your Name</td>\n",
       "      <td>0.0</td>\n",
       "    </tr>\n",
       "    <tr>\n",
       "      <th>4</th>\n",
       "      <td>04/05/19</td>\n",
       "      <td>112-0000000-0000005</td>\n",
       "      <td>Visa - 0001</td>\n",
       "      <td>Amazon.com</td>\n",
       "      <td>0.0</td>\n",
       "      <td>your_email@gmail.com</td>\n",
       "      <td>04/07/19</td>\n",
       "      <td>Your Name</td>\n",
       "      <td>1 YOUR STREET</td>\n",
       "      <td>0.0</td>\n",
       "      <td>...</td>\n",
       "      <td>Shipped</td>\n",
       "      <td>USPS(0001)</td>\n",
       "      <td>$14.99</td>\n",
       "      <td>$0.00</td>\n",
       "      <td>$0.00</td>\n",
       "      <td>$0.00</td>\n",
       "      <td>$0.00</td>\n",
       "      <td>$14.99</td>\n",
       "      <td>Your Name</td>\n",
       "      <td>0.0</td>\n",
       "    </tr>\n",
       "  </tbody>\n",
       "</table>\n",
       "<p>5 rows × 23 columns</p>\n",
       "</div>"
      ],
      "text/plain": [
       "  Order Date             Order ID Payment Instrument Type     Website  \\\n",
       "0   04/01/19  112-0000000-0000001             Visa - 0001  Amazon.com   \n",
       "1   04/01/19  112-0000000-0000002             Visa - 0001  Amazon.com   \n",
       "2   04/01/19  112-0000000-0000003             Visa - 0001  Amazon.com   \n",
       "3   04/04/19  112-0000000-0000004             Visa - 0001  Amazon.com   \n",
       "4   04/05/19  112-0000000-0000005             Visa - 0001  Amazon.com   \n",
       "\n",
       "   Purchase Order Number Ordering Customer Email Shipment Date  \\\n",
       "0                    0.0    your_email@gmail.com      04/01/19   \n",
       "1                    0.0    your_email@gmail.com      04/01/19   \n",
       "2                    0.0    your_email@gmail.com      04/01/19   \n",
       "3                    0.0    your_email@gmail.com      04/05/19   \n",
       "4                    0.0    your_email@gmail.com      04/07/19   \n",
       "\n",
       "  Shipping Address Name Shipping Address Street 1  Shipping Address Street 2  \\\n",
       "0             Your Name             1 YOUR STREET                        0.0   \n",
       "1             Your Name             1 YOUR STREET                        0.0   \n",
       "2             Your Name             1 YOUR STREET                        0.0   \n",
       "3             Your Name             1 YOUR STREET                        0.0   \n",
       "4             Your Name             1 YOUR STREET                        0.0   \n",
       "\n",
       "   ... Order Status Carrier Name & Tracking Number Subtotal Shipping Charge  \\\n",
       "0  ...      Shipped                     USPS(0001)   $35.00           $0.00   \n",
       "1  ...      Shipped                     USPS(0001)   $16.99           $0.00   \n",
       "2  ...      Shipped                     USPS(0001)    $9.99           $0.00   \n",
       "3  ...      Shipped                      UPS(0002)  $147.98           $0.00   \n",
       "4  ...      Shipped                     USPS(0001)   $14.99           $0.00   \n",
       "\n",
       "  Tax Before Promotions Total Promotions Tax Charged Total Charged Buyer Name  \\\n",
       "0                 $1.93            $0.00       $1.93        $36.93  Your Name   \n",
       "1                 $0.00            $0.00       $0.00        $16.99  Your Name   \n",
       "2                 $0.00            $0.00       $0.00         $9.99  Your Name   \n",
       "3                 $8.14            $0.00       $8.14       $156.12  Your Name   \n",
       "4                 $0.00            $0.00       $0.00        $14.99  Your Name   \n",
       "\n",
       "  Group Name  \n",
       "0        0.0  \n",
       "1        0.0  \n",
       "2        0.0  \n",
       "3        0.0  \n",
       "4        0.0  \n",
       "\n",
       "[5 rows x 23 columns]"
      ]
     },
     "execution_count": 11,
     "metadata": {},
     "output_type": "execute_result"
    }
   ],
   "source": [
    "#cleaning the data--replacing NaN with 0\n",
    "df = df.fillna(0)\n",
    "#checking\n",
    "df.head()"
   ]
  },
  {
   "cell_type": "code",
   "execution_count": 12,
   "id": "55e3ea0c",
   "metadata": {},
   "outputs": [
    {
     "name": "stderr",
     "output_type": "stream",
     "text": [
      "/var/folders/2r/ry6979md2718dgm3gcjx07gm0000gn/T/ipykernel_74662/1711023337.py:2: FutureWarning: The default value of regex will change from True to False in a future version. In addition, single character regular expressions will *not* be treated as literal strings when regex=True.\n",
      "  df[\"Total Charged\"] = df[\"Total Charged\"].str.replace('$','').astype(float)\n"
     ]
    },
    {
     "data": {
      "text/html": [
       "<div>\n",
       "<style scoped>\n",
       "    .dataframe tbody tr th:only-of-type {\n",
       "        vertical-align: middle;\n",
       "    }\n",
       "\n",
       "    .dataframe tbody tr th {\n",
       "        vertical-align: top;\n",
       "    }\n",
       "\n",
       "    .dataframe thead th {\n",
       "        text-align: right;\n",
       "    }\n",
       "</style>\n",
       "<table border=\"1\" class=\"dataframe\">\n",
       "  <thead>\n",
       "    <tr style=\"text-align: right;\">\n",
       "      <th></th>\n",
       "      <th>Order Date</th>\n",
       "      <th>Order ID</th>\n",
       "      <th>Payment Instrument Type</th>\n",
       "      <th>Website</th>\n",
       "      <th>Purchase Order Number</th>\n",
       "      <th>Ordering Customer Email</th>\n",
       "      <th>Shipment Date</th>\n",
       "      <th>Shipping Address Name</th>\n",
       "      <th>Shipping Address Street 1</th>\n",
       "      <th>Shipping Address Street 2</th>\n",
       "      <th>...</th>\n",
       "      <th>Order Status</th>\n",
       "      <th>Carrier Name &amp; Tracking Number</th>\n",
       "      <th>Subtotal</th>\n",
       "      <th>Shipping Charge</th>\n",
       "      <th>Tax Before Promotions</th>\n",
       "      <th>Total Promotions</th>\n",
       "      <th>Tax Charged</th>\n",
       "      <th>Total Charged</th>\n",
       "      <th>Buyer Name</th>\n",
       "      <th>Group Name</th>\n",
       "    </tr>\n",
       "  </thead>\n",
       "  <tbody>\n",
       "    <tr>\n",
       "      <th>0</th>\n",
       "      <td>04/01/19</td>\n",
       "      <td>112-0000000-0000001</td>\n",
       "      <td>Visa - 0001</td>\n",
       "      <td>Amazon.com</td>\n",
       "      <td>0.0</td>\n",
       "      <td>your_email@gmail.com</td>\n",
       "      <td>04/01/19</td>\n",
       "      <td>Your Name</td>\n",
       "      <td>1 YOUR STREET</td>\n",
       "      <td>0.0</td>\n",
       "      <td>...</td>\n",
       "      <td>Shipped</td>\n",
       "      <td>USPS(0001)</td>\n",
       "      <td>$35.00</td>\n",
       "      <td>$0.00</td>\n",
       "      <td>$1.93</td>\n",
       "      <td>$0.00</td>\n",
       "      <td>$1.93</td>\n",
       "      <td>36.93</td>\n",
       "      <td>Your Name</td>\n",
       "      <td>0.0</td>\n",
       "    </tr>\n",
       "    <tr>\n",
       "      <th>1</th>\n",
       "      <td>04/01/19</td>\n",
       "      <td>112-0000000-0000002</td>\n",
       "      <td>Visa - 0001</td>\n",
       "      <td>Amazon.com</td>\n",
       "      <td>0.0</td>\n",
       "      <td>your_email@gmail.com</td>\n",
       "      <td>04/01/19</td>\n",
       "      <td>Your Name</td>\n",
       "      <td>1 YOUR STREET</td>\n",
       "      <td>0.0</td>\n",
       "      <td>...</td>\n",
       "      <td>Shipped</td>\n",
       "      <td>USPS(0001)</td>\n",
       "      <td>$16.99</td>\n",
       "      <td>$0.00</td>\n",
       "      <td>$0.00</td>\n",
       "      <td>$0.00</td>\n",
       "      <td>$0.00</td>\n",
       "      <td>16.99</td>\n",
       "      <td>Your Name</td>\n",
       "      <td>0.0</td>\n",
       "    </tr>\n",
       "    <tr>\n",
       "      <th>2</th>\n",
       "      <td>04/01/19</td>\n",
       "      <td>112-0000000-0000003</td>\n",
       "      <td>Visa - 0001</td>\n",
       "      <td>Amazon.com</td>\n",
       "      <td>0.0</td>\n",
       "      <td>your_email@gmail.com</td>\n",
       "      <td>04/01/19</td>\n",
       "      <td>Your Name</td>\n",
       "      <td>1 YOUR STREET</td>\n",
       "      <td>0.0</td>\n",
       "      <td>...</td>\n",
       "      <td>Shipped</td>\n",
       "      <td>USPS(0001)</td>\n",
       "      <td>$9.99</td>\n",
       "      <td>$0.00</td>\n",
       "      <td>$0.00</td>\n",
       "      <td>$0.00</td>\n",
       "      <td>$0.00</td>\n",
       "      <td>9.99</td>\n",
       "      <td>Your Name</td>\n",
       "      <td>0.0</td>\n",
       "    </tr>\n",
       "    <tr>\n",
       "      <th>3</th>\n",
       "      <td>04/04/19</td>\n",
       "      <td>112-0000000-0000004</td>\n",
       "      <td>Visa - 0001</td>\n",
       "      <td>Amazon.com</td>\n",
       "      <td>0.0</td>\n",
       "      <td>your_email@gmail.com</td>\n",
       "      <td>04/05/19</td>\n",
       "      <td>Your Name</td>\n",
       "      <td>1 YOUR STREET</td>\n",
       "      <td>0.0</td>\n",
       "      <td>...</td>\n",
       "      <td>Shipped</td>\n",
       "      <td>UPS(0002)</td>\n",
       "      <td>$147.98</td>\n",
       "      <td>$0.00</td>\n",
       "      <td>$8.14</td>\n",
       "      <td>$0.00</td>\n",
       "      <td>$8.14</td>\n",
       "      <td>156.12</td>\n",
       "      <td>Your Name</td>\n",
       "      <td>0.0</td>\n",
       "    </tr>\n",
       "    <tr>\n",
       "      <th>4</th>\n",
       "      <td>04/05/19</td>\n",
       "      <td>112-0000000-0000005</td>\n",
       "      <td>Visa - 0001</td>\n",
       "      <td>Amazon.com</td>\n",
       "      <td>0.0</td>\n",
       "      <td>your_email@gmail.com</td>\n",
       "      <td>04/07/19</td>\n",
       "      <td>Your Name</td>\n",
       "      <td>1 YOUR STREET</td>\n",
       "      <td>0.0</td>\n",
       "      <td>...</td>\n",
       "      <td>Shipped</td>\n",
       "      <td>USPS(0001)</td>\n",
       "      <td>$14.99</td>\n",
       "      <td>$0.00</td>\n",
       "      <td>$0.00</td>\n",
       "      <td>$0.00</td>\n",
       "      <td>$0.00</td>\n",
       "      <td>14.99</td>\n",
       "      <td>Your Name</td>\n",
       "      <td>0.0</td>\n",
       "    </tr>\n",
       "  </tbody>\n",
       "</table>\n",
       "<p>5 rows × 23 columns</p>\n",
       "</div>"
      ],
      "text/plain": [
       "  Order Date             Order ID Payment Instrument Type     Website  \\\n",
       "0   04/01/19  112-0000000-0000001             Visa - 0001  Amazon.com   \n",
       "1   04/01/19  112-0000000-0000002             Visa - 0001  Amazon.com   \n",
       "2   04/01/19  112-0000000-0000003             Visa - 0001  Amazon.com   \n",
       "3   04/04/19  112-0000000-0000004             Visa - 0001  Amazon.com   \n",
       "4   04/05/19  112-0000000-0000005             Visa - 0001  Amazon.com   \n",
       "\n",
       "   Purchase Order Number Ordering Customer Email Shipment Date  \\\n",
       "0                    0.0    your_email@gmail.com      04/01/19   \n",
       "1                    0.0    your_email@gmail.com      04/01/19   \n",
       "2                    0.0    your_email@gmail.com      04/01/19   \n",
       "3                    0.0    your_email@gmail.com      04/05/19   \n",
       "4                    0.0    your_email@gmail.com      04/07/19   \n",
       "\n",
       "  Shipping Address Name Shipping Address Street 1  Shipping Address Street 2  \\\n",
       "0             Your Name             1 YOUR STREET                        0.0   \n",
       "1             Your Name             1 YOUR STREET                        0.0   \n",
       "2             Your Name             1 YOUR STREET                        0.0   \n",
       "3             Your Name             1 YOUR STREET                        0.0   \n",
       "4             Your Name             1 YOUR STREET                        0.0   \n",
       "\n",
       "   ... Order Status Carrier Name & Tracking Number Subtotal Shipping Charge  \\\n",
       "0  ...      Shipped                     USPS(0001)   $35.00           $0.00   \n",
       "1  ...      Shipped                     USPS(0001)   $16.99           $0.00   \n",
       "2  ...      Shipped                     USPS(0001)    $9.99           $0.00   \n",
       "3  ...      Shipped                      UPS(0002)  $147.98           $0.00   \n",
       "4  ...      Shipped                     USPS(0001)   $14.99           $0.00   \n",
       "\n",
       "  Tax Before Promotions Total Promotions Tax Charged Total Charged Buyer Name  \\\n",
       "0                 $1.93            $0.00       $1.93         36.93  Your Name   \n",
       "1                 $0.00            $0.00       $0.00         16.99  Your Name   \n",
       "2                 $0.00            $0.00       $0.00          9.99  Your Name   \n",
       "3                 $8.14            $0.00       $8.14        156.12  Your Name   \n",
       "4                 $0.00            $0.00       $0.00         14.99  Your Name   \n",
       "\n",
       "  Group Name  \n",
       "0        0.0  \n",
       "1        0.0  \n",
       "2        0.0  \n",
       "3        0.0  \n",
       "4        0.0  \n",
       "\n",
       "[5 rows x 23 columns]"
      ]
     },
     "execution_count": 12,
     "metadata": {},
     "output_type": "execute_result"
    }
   ],
   "source": [
    "#changing the strings--the dollar values--to floats\n",
    "df[\"Total Charged\"] = df[\"Total Charged\"].str.replace('$','').astype(float)\n",
    "#checking\n",
    "df.head()"
   ]
  },
  {
   "cell_type": "code",
   "execution_count": 13,
   "id": "6059abdd",
   "metadata": {},
   "outputs": [
    {
     "data": {
      "text/plain": [
       "1777.7300000000002"
      ]
     },
     "execution_count": 13,
     "metadata": {},
     "output_type": "execute_result"
    }
   ],
   "source": [
    "#total amount of money spent\n",
    "df[\"Total Charged\"].sum()"
   ]
  },
  {
   "cell_type": "code",
   "execution_count": 15,
   "id": "9b9305d9",
   "metadata": {},
   "outputs": [
    {
     "data": {
      "text/plain": [
       "30.131016949152542"
      ]
     },
     "execution_count": 15,
     "metadata": {},
     "output_type": "execute_result"
    }
   ],
   "source": [
    "#average purchase total\n",
    "df[\"Total Charged\"].mean()"
   ]
  },
  {
   "cell_type": "code",
   "execution_count": 16,
   "id": "1c3b9661",
   "metadata": {},
   "outputs": [
    {
     "data": {
      "text/plain": [
       "15.95"
      ]
     },
     "execution_count": 16,
     "metadata": {},
     "output_type": "execute_result"
    }
   ],
   "source": [
    "#median order\n",
    "df[\"Total Charged\"].median()"
   ]
  },
  {
   "cell_type": "code",
   "execution_count": 18,
   "id": "3a19862f",
   "metadata": {},
   "outputs": [
    {
     "data": {
      "text/plain": [
       "210.99"
      ]
     },
     "execution_count": 18,
     "metadata": {},
     "output_type": "execute_result"
    }
   ],
   "source": [
    "#most expensive order\n",
    "df[\"Total Charged\"].max()"
   ]
  },
  {
   "cell_type": "code",
   "execution_count": 19,
   "id": "4379997e",
   "metadata": {},
   "outputs": [
    {
     "data": {
      "text/plain": [
       "1.04"
      ]
     },
     "execution_count": 19,
     "metadata": {},
     "output_type": "execute_result"
    }
   ],
   "source": [
    "#least expensive order\n",
    "df[\"Total Charged\"].min()"
   ]
  },
  {
   "cell_type": "code",
   "execution_count": 20,
   "id": "33b07629",
   "metadata": {},
   "outputs": [
    {
     "name": "stderr",
     "output_type": "stream",
     "text": [
      "/var/folders/2r/ry6979md2718dgm3gcjx07gm0000gn/T/ipykernel_74662/2452613729.py:2: FutureWarning: The default value of regex will change from True to False in a future version. In addition, single character regular expressions will *not* be treated as literal strings when regex=True.\n",
      "  df[\"Tax Charged\"] = df[\"Tax Charged\"].str.replace('$','').astype(float)\n"
     ]
    },
    {
     "data": {
      "text/html": [
       "<div>\n",
       "<style scoped>\n",
       "    .dataframe tbody tr th:only-of-type {\n",
       "        vertical-align: middle;\n",
       "    }\n",
       "\n",
       "    .dataframe tbody tr th {\n",
       "        vertical-align: top;\n",
       "    }\n",
       "\n",
       "    .dataframe thead th {\n",
       "        text-align: right;\n",
       "    }\n",
       "</style>\n",
       "<table border=\"1\" class=\"dataframe\">\n",
       "  <thead>\n",
       "    <tr style=\"text-align: right;\">\n",
       "      <th></th>\n",
       "      <th>Order Date</th>\n",
       "      <th>Order ID</th>\n",
       "      <th>Payment Instrument Type</th>\n",
       "      <th>Website</th>\n",
       "      <th>Purchase Order Number</th>\n",
       "      <th>Ordering Customer Email</th>\n",
       "      <th>Shipment Date</th>\n",
       "      <th>Shipping Address Name</th>\n",
       "      <th>Shipping Address Street 1</th>\n",
       "      <th>Shipping Address Street 2</th>\n",
       "      <th>...</th>\n",
       "      <th>Order Status</th>\n",
       "      <th>Carrier Name &amp; Tracking Number</th>\n",
       "      <th>Subtotal</th>\n",
       "      <th>Shipping Charge</th>\n",
       "      <th>Tax Before Promotions</th>\n",
       "      <th>Total Promotions</th>\n",
       "      <th>Tax Charged</th>\n",
       "      <th>Total Charged</th>\n",
       "      <th>Buyer Name</th>\n",
       "      <th>Group Name</th>\n",
       "    </tr>\n",
       "  </thead>\n",
       "  <tbody>\n",
       "    <tr>\n",
       "      <th>0</th>\n",
       "      <td>04/01/19</td>\n",
       "      <td>112-0000000-0000001</td>\n",
       "      <td>Visa - 0001</td>\n",
       "      <td>Amazon.com</td>\n",
       "      <td>0.0</td>\n",
       "      <td>your_email@gmail.com</td>\n",
       "      <td>04/01/19</td>\n",
       "      <td>Your Name</td>\n",
       "      <td>1 YOUR STREET</td>\n",
       "      <td>0.0</td>\n",
       "      <td>...</td>\n",
       "      <td>Shipped</td>\n",
       "      <td>USPS(0001)</td>\n",
       "      <td>$35.00</td>\n",
       "      <td>$0.00</td>\n",
       "      <td>$1.93</td>\n",
       "      <td>$0.00</td>\n",
       "      <td>1.93</td>\n",
       "      <td>36.93</td>\n",
       "      <td>Your Name</td>\n",
       "      <td>0.0</td>\n",
       "    </tr>\n",
       "    <tr>\n",
       "      <th>1</th>\n",
       "      <td>04/01/19</td>\n",
       "      <td>112-0000000-0000002</td>\n",
       "      <td>Visa - 0001</td>\n",
       "      <td>Amazon.com</td>\n",
       "      <td>0.0</td>\n",
       "      <td>your_email@gmail.com</td>\n",
       "      <td>04/01/19</td>\n",
       "      <td>Your Name</td>\n",
       "      <td>1 YOUR STREET</td>\n",
       "      <td>0.0</td>\n",
       "      <td>...</td>\n",
       "      <td>Shipped</td>\n",
       "      <td>USPS(0001)</td>\n",
       "      <td>$16.99</td>\n",
       "      <td>$0.00</td>\n",
       "      <td>$0.00</td>\n",
       "      <td>$0.00</td>\n",
       "      <td>0.00</td>\n",
       "      <td>16.99</td>\n",
       "      <td>Your Name</td>\n",
       "      <td>0.0</td>\n",
       "    </tr>\n",
       "    <tr>\n",
       "      <th>2</th>\n",
       "      <td>04/01/19</td>\n",
       "      <td>112-0000000-0000003</td>\n",
       "      <td>Visa - 0001</td>\n",
       "      <td>Amazon.com</td>\n",
       "      <td>0.0</td>\n",
       "      <td>your_email@gmail.com</td>\n",
       "      <td>04/01/19</td>\n",
       "      <td>Your Name</td>\n",
       "      <td>1 YOUR STREET</td>\n",
       "      <td>0.0</td>\n",
       "      <td>...</td>\n",
       "      <td>Shipped</td>\n",
       "      <td>USPS(0001)</td>\n",
       "      <td>$9.99</td>\n",
       "      <td>$0.00</td>\n",
       "      <td>$0.00</td>\n",
       "      <td>$0.00</td>\n",
       "      <td>0.00</td>\n",
       "      <td>9.99</td>\n",
       "      <td>Your Name</td>\n",
       "      <td>0.0</td>\n",
       "    </tr>\n",
       "    <tr>\n",
       "      <th>3</th>\n",
       "      <td>04/04/19</td>\n",
       "      <td>112-0000000-0000004</td>\n",
       "      <td>Visa - 0001</td>\n",
       "      <td>Amazon.com</td>\n",
       "      <td>0.0</td>\n",
       "      <td>your_email@gmail.com</td>\n",
       "      <td>04/05/19</td>\n",
       "      <td>Your Name</td>\n",
       "      <td>1 YOUR STREET</td>\n",
       "      <td>0.0</td>\n",
       "      <td>...</td>\n",
       "      <td>Shipped</td>\n",
       "      <td>UPS(0002)</td>\n",
       "      <td>$147.98</td>\n",
       "      <td>$0.00</td>\n",
       "      <td>$8.14</td>\n",
       "      <td>$0.00</td>\n",
       "      <td>8.14</td>\n",
       "      <td>156.12</td>\n",
       "      <td>Your Name</td>\n",
       "      <td>0.0</td>\n",
       "    </tr>\n",
       "    <tr>\n",
       "      <th>4</th>\n",
       "      <td>04/05/19</td>\n",
       "      <td>112-0000000-0000005</td>\n",
       "      <td>Visa - 0001</td>\n",
       "      <td>Amazon.com</td>\n",
       "      <td>0.0</td>\n",
       "      <td>your_email@gmail.com</td>\n",
       "      <td>04/07/19</td>\n",
       "      <td>Your Name</td>\n",
       "      <td>1 YOUR STREET</td>\n",
       "      <td>0.0</td>\n",
       "      <td>...</td>\n",
       "      <td>Shipped</td>\n",
       "      <td>USPS(0001)</td>\n",
       "      <td>$14.99</td>\n",
       "      <td>$0.00</td>\n",
       "      <td>$0.00</td>\n",
       "      <td>$0.00</td>\n",
       "      <td>0.00</td>\n",
       "      <td>14.99</td>\n",
       "      <td>Your Name</td>\n",
       "      <td>0.0</td>\n",
       "    </tr>\n",
       "  </tbody>\n",
       "</table>\n",
       "<p>5 rows × 23 columns</p>\n",
       "</div>"
      ],
      "text/plain": [
       "  Order Date             Order ID Payment Instrument Type     Website  \\\n",
       "0   04/01/19  112-0000000-0000001             Visa - 0001  Amazon.com   \n",
       "1   04/01/19  112-0000000-0000002             Visa - 0001  Amazon.com   \n",
       "2   04/01/19  112-0000000-0000003             Visa - 0001  Amazon.com   \n",
       "3   04/04/19  112-0000000-0000004             Visa - 0001  Amazon.com   \n",
       "4   04/05/19  112-0000000-0000005             Visa - 0001  Amazon.com   \n",
       "\n",
       "   Purchase Order Number Ordering Customer Email Shipment Date  \\\n",
       "0                    0.0    your_email@gmail.com      04/01/19   \n",
       "1                    0.0    your_email@gmail.com      04/01/19   \n",
       "2                    0.0    your_email@gmail.com      04/01/19   \n",
       "3                    0.0    your_email@gmail.com      04/05/19   \n",
       "4                    0.0    your_email@gmail.com      04/07/19   \n",
       "\n",
       "  Shipping Address Name Shipping Address Street 1  Shipping Address Street 2  \\\n",
       "0             Your Name             1 YOUR STREET                        0.0   \n",
       "1             Your Name             1 YOUR STREET                        0.0   \n",
       "2             Your Name             1 YOUR STREET                        0.0   \n",
       "3             Your Name             1 YOUR STREET                        0.0   \n",
       "4             Your Name             1 YOUR STREET                        0.0   \n",
       "\n",
       "   ... Order Status Carrier Name & Tracking Number Subtotal Shipping Charge  \\\n",
       "0  ...      Shipped                     USPS(0001)   $35.00           $0.00   \n",
       "1  ...      Shipped                     USPS(0001)   $16.99           $0.00   \n",
       "2  ...      Shipped                     USPS(0001)    $9.99           $0.00   \n",
       "3  ...      Shipped                      UPS(0002)  $147.98           $0.00   \n",
       "4  ...      Shipped                     USPS(0001)   $14.99           $0.00   \n",
       "\n",
       "  Tax Before Promotions Total Promotions Tax Charged Total Charged Buyer Name  \\\n",
       "0                 $1.93            $0.00        1.93         36.93  Your Name   \n",
       "1                 $0.00            $0.00        0.00         16.99  Your Name   \n",
       "2                 $0.00            $0.00        0.00          9.99  Your Name   \n",
       "3                 $8.14            $0.00        8.14        156.12  Your Name   \n",
       "4                 $0.00            $0.00        0.00         14.99  Your Name   \n",
       "\n",
       "   Group Name  \n",
       "0         0.0  \n",
       "1         0.0  \n",
       "2         0.0  \n",
       "3         0.0  \n",
       "4         0.0  \n",
       "\n",
       "[5 rows x 23 columns]"
      ]
     },
     "execution_count": 20,
     "metadata": {},
     "output_type": "execute_result"
    }
   ],
   "source": [
    "#changing tax charged from string to float\n",
    "df[\"Tax Charged\"] = df[\"Tax Charged\"].str.replace('$','').astype(float)\n",
    "#chacking\n",
    "df.head()"
   ]
  },
  {
   "cell_type": "code",
   "execution_count": 21,
   "id": "9c19aa28",
   "metadata": {},
   "outputs": [
    {
     "data": {
      "text/plain": [
       "52.60999999999999"
      ]
     },
     "execution_count": 21,
     "metadata": {},
     "output_type": "execute_result"
    }
   ],
   "source": [
    "#total taxes payed\n",
    "df[\"Tax Charged\"].sum()"
   ]
  },
  {
   "cell_type": "code",
   "execution_count": 32,
   "id": "d8028323",
   "metadata": {},
   "outputs": [
    {
     "name": "stdout",
     "output_type": "stream",
     "text": [
      "2.9593920336609036 %\n"
     ]
    }
   ],
   "source": [
    "#overall tax rate\n",
    "print(((df[\"Tax Charged\"].sum()/df[\"Total Charged\"].sum())*100), '%')"
   ]
  },
  {
   "cell_type": "code",
   "execution_count": 33,
   "id": "047deb7f",
   "metadata": {},
   "outputs": [
    {
     "data": {
      "text/html": [
       "<div>\n",
       "<style scoped>\n",
       "    .dataframe tbody tr th:only-of-type {\n",
       "        vertical-align: middle;\n",
       "    }\n",
       "\n",
       "    .dataframe tbody tr th {\n",
       "        vertical-align: top;\n",
       "    }\n",
       "\n",
       "    .dataframe thead th {\n",
       "        text-align: right;\n",
       "    }\n",
       "</style>\n",
       "<table border=\"1\" class=\"dataframe\">\n",
       "  <thead>\n",
       "    <tr style=\"text-align: right;\">\n",
       "      <th></th>\n",
       "      <th>Order Date</th>\n",
       "      <th>Order ID</th>\n",
       "      <th>Payment Instrument Type</th>\n",
       "      <th>Website</th>\n",
       "      <th>Purchase Order Number</th>\n",
       "      <th>Ordering Customer Email</th>\n",
       "      <th>Shipment Date</th>\n",
       "      <th>Shipping Address Name</th>\n",
       "      <th>Shipping Address Street 1</th>\n",
       "      <th>Shipping Address Street 2</th>\n",
       "      <th>...</th>\n",
       "      <th>Order Status</th>\n",
       "      <th>Carrier Name &amp; Tracking Number</th>\n",
       "      <th>Subtotal</th>\n",
       "      <th>Shipping Charge</th>\n",
       "      <th>Tax Before Promotions</th>\n",
       "      <th>Total Promotions</th>\n",
       "      <th>Tax Charged</th>\n",
       "      <th>Total Charged</th>\n",
       "      <th>Buyer Name</th>\n",
       "      <th>Group Name</th>\n",
       "    </tr>\n",
       "  </thead>\n",
       "  <tbody>\n",
       "    <tr>\n",
       "      <th>0</th>\n",
       "      <td>2019-04-01</td>\n",
       "      <td>112-0000000-0000001</td>\n",
       "      <td>Visa - 0001</td>\n",
       "      <td>Amazon.com</td>\n",
       "      <td>0.0</td>\n",
       "      <td>your_email@gmail.com</td>\n",
       "      <td>04/01/19</td>\n",
       "      <td>Your Name</td>\n",
       "      <td>1 YOUR STREET</td>\n",
       "      <td>0.0</td>\n",
       "      <td>...</td>\n",
       "      <td>Shipped</td>\n",
       "      <td>USPS(0001)</td>\n",
       "      <td>$35.00</td>\n",
       "      <td>$0.00</td>\n",
       "      <td>$1.93</td>\n",
       "      <td>$0.00</td>\n",
       "      <td>1.93</td>\n",
       "      <td>36.93</td>\n",
       "      <td>Your Name</td>\n",
       "      <td>0.0</td>\n",
       "    </tr>\n",
       "    <tr>\n",
       "      <th>1</th>\n",
       "      <td>2019-04-01</td>\n",
       "      <td>112-0000000-0000002</td>\n",
       "      <td>Visa - 0001</td>\n",
       "      <td>Amazon.com</td>\n",
       "      <td>0.0</td>\n",
       "      <td>your_email@gmail.com</td>\n",
       "      <td>04/01/19</td>\n",
       "      <td>Your Name</td>\n",
       "      <td>1 YOUR STREET</td>\n",
       "      <td>0.0</td>\n",
       "      <td>...</td>\n",
       "      <td>Shipped</td>\n",
       "      <td>USPS(0001)</td>\n",
       "      <td>$16.99</td>\n",
       "      <td>$0.00</td>\n",
       "      <td>$0.00</td>\n",
       "      <td>$0.00</td>\n",
       "      <td>0.00</td>\n",
       "      <td>16.99</td>\n",
       "      <td>Your Name</td>\n",
       "      <td>0.0</td>\n",
       "    </tr>\n",
       "    <tr>\n",
       "      <th>2</th>\n",
       "      <td>2019-04-01</td>\n",
       "      <td>112-0000000-0000003</td>\n",
       "      <td>Visa - 0001</td>\n",
       "      <td>Amazon.com</td>\n",
       "      <td>0.0</td>\n",
       "      <td>your_email@gmail.com</td>\n",
       "      <td>04/01/19</td>\n",
       "      <td>Your Name</td>\n",
       "      <td>1 YOUR STREET</td>\n",
       "      <td>0.0</td>\n",
       "      <td>...</td>\n",
       "      <td>Shipped</td>\n",
       "      <td>USPS(0001)</td>\n",
       "      <td>$9.99</td>\n",
       "      <td>$0.00</td>\n",
       "      <td>$0.00</td>\n",
       "      <td>$0.00</td>\n",
       "      <td>0.00</td>\n",
       "      <td>9.99</td>\n",
       "      <td>Your Name</td>\n",
       "      <td>0.0</td>\n",
       "    </tr>\n",
       "    <tr>\n",
       "      <th>3</th>\n",
       "      <td>2019-04-04</td>\n",
       "      <td>112-0000000-0000004</td>\n",
       "      <td>Visa - 0001</td>\n",
       "      <td>Amazon.com</td>\n",
       "      <td>0.0</td>\n",
       "      <td>your_email@gmail.com</td>\n",
       "      <td>04/05/19</td>\n",
       "      <td>Your Name</td>\n",
       "      <td>1 YOUR STREET</td>\n",
       "      <td>0.0</td>\n",
       "      <td>...</td>\n",
       "      <td>Shipped</td>\n",
       "      <td>UPS(0002)</td>\n",
       "      <td>$147.98</td>\n",
       "      <td>$0.00</td>\n",
       "      <td>$8.14</td>\n",
       "      <td>$0.00</td>\n",
       "      <td>8.14</td>\n",
       "      <td>156.12</td>\n",
       "      <td>Your Name</td>\n",
       "      <td>0.0</td>\n",
       "    </tr>\n",
       "    <tr>\n",
       "      <th>4</th>\n",
       "      <td>2019-04-05</td>\n",
       "      <td>112-0000000-0000005</td>\n",
       "      <td>Visa - 0001</td>\n",
       "      <td>Amazon.com</td>\n",
       "      <td>0.0</td>\n",
       "      <td>your_email@gmail.com</td>\n",
       "      <td>04/07/19</td>\n",
       "      <td>Your Name</td>\n",
       "      <td>1 YOUR STREET</td>\n",
       "      <td>0.0</td>\n",
       "      <td>...</td>\n",
       "      <td>Shipped</td>\n",
       "      <td>USPS(0001)</td>\n",
       "      <td>$14.99</td>\n",
       "      <td>$0.00</td>\n",
       "      <td>$0.00</td>\n",
       "      <td>$0.00</td>\n",
       "      <td>0.00</td>\n",
       "      <td>14.99</td>\n",
       "      <td>Your Name</td>\n",
       "      <td>0.0</td>\n",
       "    </tr>\n",
       "  </tbody>\n",
       "</table>\n",
       "<p>5 rows × 23 columns</p>\n",
       "</div>"
      ],
      "text/plain": [
       "  Order Date             Order ID Payment Instrument Type     Website  \\\n",
       "0 2019-04-01  112-0000000-0000001             Visa - 0001  Amazon.com   \n",
       "1 2019-04-01  112-0000000-0000002             Visa - 0001  Amazon.com   \n",
       "2 2019-04-01  112-0000000-0000003             Visa - 0001  Amazon.com   \n",
       "3 2019-04-04  112-0000000-0000004             Visa - 0001  Amazon.com   \n",
       "4 2019-04-05  112-0000000-0000005             Visa - 0001  Amazon.com   \n",
       "\n",
       "   Purchase Order Number Ordering Customer Email Shipment Date  \\\n",
       "0                    0.0    your_email@gmail.com      04/01/19   \n",
       "1                    0.0    your_email@gmail.com      04/01/19   \n",
       "2                    0.0    your_email@gmail.com      04/01/19   \n",
       "3                    0.0    your_email@gmail.com      04/05/19   \n",
       "4                    0.0    your_email@gmail.com      04/07/19   \n",
       "\n",
       "  Shipping Address Name Shipping Address Street 1  Shipping Address Street 2  \\\n",
       "0             Your Name             1 YOUR STREET                        0.0   \n",
       "1             Your Name             1 YOUR STREET                        0.0   \n",
       "2             Your Name             1 YOUR STREET                        0.0   \n",
       "3             Your Name             1 YOUR STREET                        0.0   \n",
       "4             Your Name             1 YOUR STREET                        0.0   \n",
       "\n",
       "   ... Order Status Carrier Name & Tracking Number Subtotal Shipping Charge  \\\n",
       "0  ...      Shipped                     USPS(0001)   $35.00           $0.00   \n",
       "1  ...      Shipped                     USPS(0001)   $16.99           $0.00   \n",
       "2  ...      Shipped                     USPS(0001)    $9.99           $0.00   \n",
       "3  ...      Shipped                      UPS(0002)  $147.98           $0.00   \n",
       "4  ...      Shipped                     USPS(0001)   $14.99           $0.00   \n",
       "\n",
       "  Tax Before Promotions Total Promotions Tax Charged Total Charged Buyer Name  \\\n",
       "0                 $1.93            $0.00        1.93         36.93  Your Name   \n",
       "1                 $0.00            $0.00        0.00         16.99  Your Name   \n",
       "2                 $0.00            $0.00        0.00          9.99  Your Name   \n",
       "3                 $8.14            $0.00        8.14        156.12  Your Name   \n",
       "4                 $0.00            $0.00        0.00         14.99  Your Name   \n",
       "\n",
       "   Group Name  \n",
       "0         0.0  \n",
       "1         0.0  \n",
       "2         0.0  \n",
       "3         0.0  \n",
       "4         0.0  \n",
       "\n",
       "[5 rows x 23 columns]"
      ]
     },
     "execution_count": 33,
     "metadata": {},
     "output_type": "execute_result"
    }
   ],
   "source": [
    "#converting the order date into datetime so python can read it as a date\n",
    "df[\"Order Date\"] = pd.to_datetime(df[\"Order Date\"])\n",
    "#checking\n",
    "df.head()"
   ]
  },
  {
   "cell_type": "code",
   "execution_count": 34,
   "id": "77ca2aa5",
   "metadata": {},
   "outputs": [],
   "source": [
    "import matplotlib.pyplot as plt\n",
    "import numpy as np"
   ]
  },
  {
   "cell_type": "code",
   "execution_count": 35,
   "id": "8e3f8a6e",
   "metadata": {},
   "outputs": [
    {
     "data": {
      "text/plain": [
       "<AxesSubplot:xlabel='Order Date'>"
      ]
     },
     "execution_count": 35,
     "metadata": {},
     "output_type": "execute_result"
    },
    {
     "data": {
      "image/png": "[encoded data removed]",
      "text/plain": [
       "<Figure size 432x288 with 1 Axes>"
      ]
     },
     "metadata": {
      "needs_background": "light"
     },
     "output_type": "display_data"
    }
   ],
   "source": [
    "x = \"Order Date\"\n",
    "y = \"Total Charged\"\n",
    "#rotating the axis labels 90 degrees\n",
    "df.plot.bar(x, y, rot = 90)"
   ]
  },
  {
   "cell_type": "code",
   "execution_count": 36,
   "id": "8118e567",
   "metadata": {},
   "outputs": [
    {
     "data": {
      "text/plain": [
       "<AxesSubplot:xlabel='Order Date'>"
      ]
     },
     "execution_count": 36,
     "metadata": {},
     "output_type": "execute_result"
    },
    {
     "data": {
      "image/png": "[encoded data removed]",
      "text/plain": [
       "<Figure size 1440x720 with 1 Axes>"
      ]
     },
     "metadata": {
      "needs_background": "light"
     },
     "output_type": "display_data"
    }
   ],
   "source": [
    "#making the graph bigger\n",
    "df.plot.bar(x, y, rot = 90, figsize=(20,10))"
   ]
  },
  {
   "cell_type": "code",
   "execution_count": 37,
   "id": "e76d5bc0",
   "metadata": {},
   "outputs": [
    {
     "data": {
      "text/plain": [
       "Order Date\n",
       "2019-04-01     63.91\n",
       "2019-04-04    156.12\n",
       "2019-04-05     27.64\n",
       "2019-04-07     40.63\n",
       "2019-04-08     44.99\n",
       "Name: Total Charged, dtype: float64"
      ]
     },
     "execution_count": 37,
     "metadata": {},
     "output_type": "execute_result"
    }
   ],
   "source": [
    "#grouping the data so all orders on the same date get one bar\n",
    "#also making the total charged the sum of all orders placed on the same day\n",
    "daily_orders = df.groupby(\"Order Date\").sum()[\"Total Charged\"]\n",
    "#checking\n",
    "daily_orders.head()"
   ]
  },
  {
   "cell_type": "code",
   "execution_count": 38,
   "id": "a6b7b749",
   "metadata": {},
   "outputs": [
    {
     "data": {
      "text/plain": [
       "<AxesSubplot:xlabel='Order Date'>"
      ]
     },
     "execution_count": 38,
     "metadata": {},
     "output_type": "execute_result"
    },
    {
     "data": {
      "image/png": "[encoded data removed]",
      "text/plain": [
       "<Figure size 1440x720 with 1 Axes>"
      ]
     },
     "metadata": {
      "needs_background": "light"
     },
     "output_type": "display_data"
    }
   ],
   "source": [
    "#graphing this\n",
    "daily_orders.plot.bar(figsize=(20,10))"
   ]
  },
  {
   "cell_type": "code",
   "execution_count": 81,
   "id": "91d1316c",
   "metadata": {},
   "outputs": [
    {
     "name": "stdout",
     "output_type": "stream",
     "text": [
      "Monthly Summary: \n",
      "\n",
      "Monthly Total Purchase Amount: \n",
      " Order Date\n",
      "2019-04-30    399.17\n",
      "2019-05-31    294.08\n",
      "2019-06-30    130.35\n",
      "2019-07-31    954.13\n",
      "Freq: M, Name: Total Charged, dtype: float64 \n",
      "\n",
      "Monthly Average Purchase Amount: \n",
      " Order Date\n",
      "2019-04-30    39.917000\n",
      "2019-05-31    16.337778\n",
      "2019-06-30    21.725000\n",
      "2019-07-31    38.165200\n",
      "Freq: M, Name: Total Charged, dtype: float64 \n",
      "\n",
      "Monthly Maximum Purchase Amount: \n",
      " Order Date\n",
      "2019-04-30    156.12\n",
      "2019-05-31     38.89\n",
      "2019-06-30     51.99\n",
      "2019-07-31    210.99\n",
      "Freq: M, Name: Total Charged, dtype: float64 \n",
      "\n",
      "Monthly Minimum Purchase Amount: \n",
      " Order Date\n",
      "2019-04-30     9.99\n",
      "2019-05-31     7.60\n",
      "2019-06-30    10.59\n",
      "2019-07-31     1.04\n",
      "Freq: M, Name: Total Charged, dtype: float64 \n",
      "\n",
      "Monthly Standard Deviation of Purchase Amount: \n",
      " Order Date\n",
      "2019-04-30    42.760387\n",
      "2019-05-31    10.524701\n",
      "2019-06-30    16.287456\n",
      "2019-07-31    46.033624\n",
      "Freq: M, Name: Total Charged, dtype: float64 \n",
      "\n",
      "\n",
      "\n",
      "Aggregate Summary: \n",
      "\n",
      "Total: $ 1777.7300000000002\n",
      "Average Purchase Amount: $ 30.131016949152542\n",
      "Median Purchase Amount: $ 15.95\n",
      "Most Expensive Purchase: $ 210.99\n",
      "Least Expensive Purchase: $ 1.04\n",
      "Standard Deviation of Purchase Amount: $ 36.42273246651456\n"
     ]
    }
   ],
   "source": [
    "#STATISTICAL ANALYSIS\n",
    "print(\"Monthly Summary:\",  \"\\n\")\n",
    "#monthly totals\n",
    "monthly_totals = df.groupby(pd.Grouper(key=\"Order Date\",freq=\"1M\")).sum()[\"Total Charged\"]\n",
    "print(\"Monthly Total Purchase Amount:\", \"\\n\", monthly_totals, \"\\n\")\n",
    "\n",
    "#monthly averages\n",
    "monthly_avg = df.groupby(pd.Grouper(key=\"Order Date\",freq=\"1M\")).mean()[\"Total Charged\"]\n",
    "print(\"Monthly Average Purchase Amount:\", \"\\n\", monthly_avg, \"\\n\")\n",
    "\n",
    "#monthly max\n",
    "monthly_max = df.groupby(pd.Grouper(key=\"Order Date\",freq=\"1M\")).max()[\"Total Charged\"]\n",
    "print(\"Monthly Maximum Purchase Amount:\", \"\\n\", monthly_max, \"\\n\")\n",
    "\n",
    "#monthly min\n",
    "monthly_min = df.groupby(pd.Grouper(key=\"Order Date\",freq=\"1M\")).min()[\"Total Charged\"]\n",
    "print(\"Monthly Minimum Purchase Amount:\", \"\\n\", monthly_min, \"\\n\")\n",
    "\n",
    "#monthly stdev\n",
    "monthly_stdev = df.groupby(pd.Grouper(key=\"Order Date\",freq=\"1M\")).std()[\"Total Charged\"]\n",
    "print(\"Monthly Standard Deviation of Purchase Amount:\", \"\\n\", monthly_stdev, \"\\n\")\n",
    "\n",
    "print(\"\\n\")\n",
    "print(\"Aggregate Summary:\",  \"\\n\")\n",
    "\n",
    "#total\n",
    "print(\"Total:\", \"$\", df[\"Total Charged\"].sum())\n",
    "\n",
    "#average spent\n",
    "print(\"Average Purchase Amount:\", \"$\", df[\"Total Charged\"].mean())\n",
    "\n",
    "#median spent\n",
    "print(\"Median Purchase Amount:\", \"$\", df[\"Total Charged\"].median())\n",
    "\n",
    "#most expensive purchase\n",
    "print(\"Most Expensive Purchase:\", \"$\", df[\"Total Charged\"].max())\n",
    "\n",
    "#least expensive purchase\n",
    "print(\"Least Expensive Purchase:\", \"$\", df[\"Total Charged\"].min())\n",
    "\n",
    "#standard deviation of purchase price \n",
    "print(\"Standard Deviation of Purchase Amount:\", \"$\", df[\"Total Charged\"].std())"
   ]
  },
  {
   "cell_type": "code",
   "execution_count": 119,
   "id": "dfe71f3e",
   "metadata": {},
   "outputs": [
    {
     "data": {
      "image/png": "[encoded data removed]",
      "text/plain": [
       "<Figure size 432x288 with 1 Axes>"
      ]
     },
     "metadata": {},
     "output_type": "display_data"
    }
   ],
   "source": [
    "#VISUALIZATION\n",
    "\n",
    "#pie chart\n",
    "mylabels = [\"April\", \"May\", \"June\", \"July\"]\n",
    "plt.pie(monthly_totals, labels = mylabels)\n",
    "plt.title('Amazon Spending by Month')\n",
    "plt.show()"
   ]
  },
  {
   "cell_type": "code",
   "execution_count": 117,
   "id": "1b503d8b",
   "metadata": {},
   "outputs": [
    {
     "data": {
      "text/plain": [
       "Text(0.5, 1.0, 'Daily Purchase Amount')"
      ]
     },
     "execution_count": 117,
     "metadata": {},
     "output_type": "execute_result"
    },
    {
     "data": {
      "image/png": "[encoded data removed]",
      "text/plain": [
       "<Figure size 1440x720 with 1 Axes>"
      ]
     },
     "metadata": {
      "needs_background": "light"
     },
     "output_type": "display_data"
    }
   ],
   "source": [
    "#Daily Purchase Amount\n",
    "daily_orders.plot.bar(figsize=(20,10))\n",
    "plt.xlabel(\"Order Date\")\n",
    "plt.ylabel(\"Purchase Amount in Dollars\")\n",
    "plt.title(\"Daily Purchase Amount\")"
   ]
  },
  {
   "cell_type": "code",
   "execution_count": 118,
   "id": "e7ebf0f5",
   "metadata": {},
   "outputs": [
    {
     "data": {
      "text/plain": [
       "Text(0.5, 1.0, 'Daily Tax Amount')"
      ]
     },
     "execution_count": 118,
     "metadata": {},
     "output_type": "execute_result"
    },
    {
     "data": {
      "image/png": "[encoded data removed]",
      "text/plain": [
       "<Figure size 1440x720 with 1 Axes>"
      ]
     },
     "metadata": {
      "needs_background": "light"
     },
     "output_type": "display_data"
    }
   ],
   "source": [
    "#Daily Tax Amount\n",
    "daily_tax = df.groupby(\"Order Date\").sum()[\"Tax Charged\"]\n",
    "daily_tax.plot.bar(figsize=(20,10))\n",
    "plt.xlabel(\"Order Date\")\n",
    "plt.ylabel(\"Tax Amount in Dollars\")\n",
    "plt.title(\"Daily Tax Amount\")"
   ]
  },
  {
   "cell_type": "code",
   "execution_count": 120,
   "id": "a953918a",
   "metadata": {},
   "outputs": [
    {
     "data": {
      "text/plain": [
       "Text(0.5, 1.0, 'Monthly Spending')"
      ]
     },
     "execution_count": 120,
     "metadata": {},
     "output_type": "execute_result"
    },
    {
     "data": {
      "image/png": "[encoded data removed]",
      "text/plain": [
       "<Figure size 1440x720 with 1 Axes>"
      ]
     },
     "metadata": {
      "needs_background": "light"
     },
     "output_type": "display_data"
    }
   ],
   "source": [
    "#Monthly Totals\n",
    "monthly_totals.plot.bar(figsize=(20,10))\n",
    "plt.xlabel(\"Month\")\n",
    "plt.ylabel(\"Purchase Amount in Dollars\")\n",
    "plt.title(\"Monthly Spending\")\n"
   ]
  },
  {
   "cell_type": "code",
   "execution_count": 121,
   "id": "a7fdbad9",
   "metadata": {},
   "outputs": [
    {
     "data": {
      "text/plain": [
       "Text(0.5, 1.0, 'Daily Purchase Amount')"
      ]
     },
     "execution_count": 121,
     "metadata": {},
     "output_type": "execute_result"
    },
    {
     "data": {
      "image/png": "[encoded data removed]",
      "text/plain": [
       "<Figure size 1440x720 with 1 Axes>"
      ]
     },
     "metadata": {
      "needs_background": "light"
     },
     "output_type": "display_data"
    }
   ],
   "source": [
    "#spending over time\n",
    "daily_orders.plot(figsize=(20,10))\n",
    "plt.xlabel(\"Order Date\")\n",
    "plt.ylabel(\"Purchase Amount in Dollars\")\n",
    "plt.title(\"Daily Purchase Amount\")\n"
   ]
  },
  {
   "cell_type": "code",
   "execution_count": 159,
   "id": "d9f62270",
   "metadata": {},
   "outputs": [
    {
     "data": {
      "text/plain": [
       "Text(0.5, 1.0, 'Daily Purchase and Tax Amount')"
      ]
     },
     "execution_count": 159,
     "metadata": {},
     "output_type": "execute_result"
    },
    {
     "data": {
      "image/png": "[encoded data removed]",
      "text/plain": [
       "<Figure size 1440x720 with 1 Axes>"
      ]
     },
     "metadata": {
      "needs_background": "light"
     },
     "output_type": "display_data"
    }
   ],
   "source": [
    "#multiple line charts\n",
    "\n",
    "#daily purchase and tax amount\n",
    "ax = daily_orders.plot(figsize=(20,10))\n",
    "daily_tax.plot(ax=ax)\n",
    "ax.legend()\n",
    "plt.xlabel(\"Order Date\")\n",
    "plt.ylabel(\"Amount in Dollars\")\n",
    "plt.title(\"Daily Purchase and Tax Amount\")"
   ]
  },
  {
   "cell_type": "code",
   "execution_count": 158,
   "id": "a2bca537",
   "metadata": {},
   "outputs": [
    {
     "data": {
      "text/plain": [
       "Text(0.5, 1.0, 'Monthly Total and Average Spending')"
      ]
     },
     "execution_count": 158,
     "metadata": {},
     "output_type": "execute_result"
    },
    {
     "data": {
      "image/png": "[encoded data removed]",
      "text/plain": [
       "<Figure size 432x288 with 1 Axes>"
      ]
     },
     "metadata": {
      "needs_background": "light"
     },
     "output_type": "display_data"
    }
   ],
   "source": [
    "#monthly total and average spending\n",
    "ax = monthly_totals.plot()\n",
    "monthly_avg.plot(ax=ax)\n",
    "ax.legend([\"Monthly Total Amount Spent\", \"Monthly Average Amount Spent\"])\n",
    "plt.xlabel(\"Month\")\n",
    "plt.ylabel(\"Amount in Dollars\")\n",
    "plt.title(\"Monthly Total and Average Spending\")"
   ]
  }
 ],
 "metadata": {
  "kernelspec": {
   "display_name": "Python 3 (ipykernel)",
   "language": "python",
   "name": "python3"
  },
  "language_info": {
   "codemirror_mode": {
    "name": "ipython",
    "version": 3
   },
   "file_extension": ".py",
   "mimetype": "text/x-python",
   "name": "python",
   "nbconvert_exporter": "python",
   "pygments_lexer": "ipython3",
   "version": "3.9.7"
  }
 },
 "nbformat": 4,
 "nbformat_minor": 5
}
