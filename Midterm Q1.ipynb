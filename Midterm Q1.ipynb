{
 "cells": [
  {
   "cell_type": "code",
   "execution_count": 98,
   "id": "6ca8bb80",
   "metadata": {},
   "outputs": [
    {
     "name": "stdout",
     "output_type": "stream",
     "text": [
      "['2', '4', '6', '8', '4', '5', '2', '1', '9', '0', '4', '6', '7', '4', '3', '2', '1', '9', '10', '3', '7', '9', '6', '0', '1', '3', '5', '6', '7', '8', '9', '10', '2', '3', '6', '8', '9', '10', '6', '7', '4', '3', '2', '1', '9', '10', '3', '7', '9', '6', '0', '1', '3', '5', '6', '7', '8', '9', '10', '2', '3', '6', '8', '9', '10', '2', '4', '6', '8', '4', '5', '2', '1', '9', '0', '4', '6', '7', '4', '3', '2', '1', '9', '10', '3', '7', '9', '6', '4', '5', '2', '1', '9', '0', '4', '6', '7', '4', '3', '2', '1', '9', '10', '3', '7', '9', '6', '0', '1', '3', '5', '6', '7', '8', '9', '10', '2', '3', '6', '8', '9', '10', '6', '7', '4', '3', '6', '8', '4', '5', '2', '10', '3', '7', '9', '6', '0', '1', '3', '5', '6', '7', '8', '9', '10', '2', '3', '6', '8', '9', '10', '2', '4', '6', '8', '4', '5', '2', '1', '9', '0', '4', '6', '7', '4', '2', '4', '6', '8', '4', '5', '2', '1', '9', '0', '4', '6', '7', '4', '3', '2', '1', '9', '10', '3', '7', '9', '6']\n"
     ]
    },
    {
     "data": {
      "text/plain": [
       "list"
      ]
     },
     "execution_count": 98,
     "metadata": {},
     "output_type": "execute_result"
    }
   ],
   "source": [
    "#opening the file\n",
    "f = open(\"numbers.txt\", \"r\")\n",
    "#check type--need to get it into string\n",
    "type(f)\n",
    "#read the file and store it in variable \"raw\"\n",
    "raw = f.read()\n",
    "#check type--should now be a string\n",
    "type(raw)\n",
    "#convert the string into a list, and get rid of the\n",
    "#new lines and replace them with commas, \n",
    "#then use split to change it from a string to a list\n",
    "my_list = raw.replace('\\n', \",\").split(\",\")\n",
    "print(my_list)\n",
    "#check type, should now be list\n",
    "type(my_list)"
   ]
  },
  {
   "cell_type": "code",
   "execution_count": 99,
   "id": "98f9e440",
   "metadata": {},
   "outputs": [
    {
     "name": "stdout",
     "output_type": "stream",
     "text": [
      "{'2': 19, '4': 22, '6': 26, '8': 13, '5': 10, '1': 14, '9': 24, '0': 9, '7': 17, '3': 20, '10': 14}\n"
     ]
    }
   ],
   "source": [
    "#now need to count the frequency of each number and put it in a dictionary\n",
    "\n",
    "#create an empty dictionary\n",
    "counter = {}\n",
    "#iterate through list, count frequency\n",
    "for number in my_list:\n",
    "    if number in counter:\n",
    "        counter[number] += 1\n",
    "    else:\n",
    "        counter[number] = 1\n",
    "\n",
    "print(counter)\n",
    "\n",
    "    "
   ]
  },
  {
   "cell_type": "code",
   "execution_count": 100,
   "id": "670da061",
   "metadata": {},
   "outputs": [
    {
     "name": "stdout",
     "output_type": "stream",
     "text": [
      "{2: 19, 4: 22, 6: 26, 8: 13, 5: 10, 1: 14, 9: 24, 0: 9, 7: 17, 3: 20, 10: 14}\n"
     ]
    }
   ],
   "source": [
    "#make keys int so they can be sorted in numerical order\n",
    "new_counter = {}\n",
    "new_counter = {int(keys):int(values) for keys, values in counter.items()}\n",
    "print(new_counter)"
   ]
  },
  {
   "cell_type": "code",
   "execution_count": 101,
   "id": "1f396285",
   "metadata": {},
   "outputs": [
    {
     "name": "stdout",
     "output_type": "stream",
     "text": [
      "0 : 9\n",
      "1 : 14\n",
      "2 : 19\n",
      "3 : 20\n",
      "4 : 22\n",
      "5 : 10\n",
      "6 : 26\n",
      "7 : 17\n",
      "8 : 13\n",
      "9 : 24\n",
      "10 : 14\n",
      "{0: 9, 1: 14, 2: 19, 3: 20, 4: 22, 5: 10, 6: 26, 7: 17, 8: 13, 9: 24, 10: 14}\n"
     ]
    }
   ],
   "source": [
    "#sort the dictionary\n",
    "for key, value in sorted(new_counter.items()):\n",
    "    print(key, \":\", value)\n",
    "\n",
    "#save to new dictionary\n",
    "final_counter = {}\n",
    "final_counter.update(sorted(new_counter.items()))\n",
    "print(final_counter)"
   ]
  },
  {
   "cell_type": "code",
   "execution_count": 102,
   "id": "e6a57ce2",
   "metadata": {},
   "outputs": [],
   "source": [
    "import matplotlib.pyplot as plt\n",
    "import numpy as np"
   ]
  },
  {
   "cell_type": "code",
   "execution_count": 103,
   "id": "7817c5a8",
   "metadata": {},
   "outputs": [
    {
     "data": {
      "image/png": "[encoded data removed]",
      "text/plain": [
       "<Figure size 432x288 with 1 Axes>"
      ]
     },
     "metadata": {
      "needs_background": "light"
     },
     "output_type": "display_data"
    }
   ],
   "source": [
    "#plot the frequency of each number\n",
    "x = (final_counter.keys())\n",
    "y = (final_counter.values())\n",
    "plt.bar(x,y)\n",
    "plt.title(\"Frequency of Each Number 0-10\")\n",
    "plt.xlabel(\"Number 0-10\")\n",
    "plt.ylabel(\"Frequency\")\n",
    "plt.show()\n",
    "\n"
   ]
  },
  {
   "cell_type": "code",
   "execution_count": 104,
   "id": "36c08e58",
   "metadata": {},
   "outputs": [],
   "source": [
    "#convert to json and save in new file midtermQ1\n",
    "import json\n",
    "with open(\"midtermQ1.json\", \"w\") as outfile:\n",
    "    json.dump(final_counter, outfile)"
   ]
  },
  {
   "cell_type": "code",
   "execution_count": 96,
   "id": "d92dde52",
   "metadata": {},
   "outputs": [],
   "source": []
  },
  {
   "cell_type": "code",
   "execution_count": null,
   "id": "08227170",
   "metadata": {},
   "outputs": [],
   "source": [
    "\n"
   ]
  },
  {
   "cell_type": "code",
   "execution_count": null,
   "id": "d117419d",
   "metadata": {},
   "outputs": [],
   "source": []
  },
  {
   "cell_type": "code",
   "execution_count": null,
   "id": "bb30982d",
   "metadata": {},
   "outputs": [],
   "source": []
  },
  {
   "cell_type": "code",
   "execution_count": null,
   "id": "7f6a0fa8",
   "metadata": {},
   "outputs": [],
   "source": []
  },
  {
   "cell_type": "code",
   "execution_count": 19,
   "id": "e500aa0b",
   "metadata": {},
   "outputs": [],
   "source": []
  },
  {
   "cell_type": "code",
   "execution_count": null,
   "id": "cb6349ed",
   "metadata": {},
   "outputs": [],
   "source": []
  },
  {
   "cell_type": "code",
   "execution_count": null,
   "id": "831743c0",
   "metadata": {},
   "outputs": [],
   "source": []
  }
 ],
 "metadata": {
  "kernelspec": {
   "display_name": "Python 3 (ipykernel)",
   "language": "python",
   "name": "python3"
  },
  "language_info": {
   "codemirror_mode": {
    "name": "ipython",
    "version": 3
   },
   "file_extension": ".py",
   "mimetype": "text/x-python",
   "name": "python",
   "nbconvert_exporter": "python",
   "pygments_lexer": "ipython3",
   "version": "3.9.7"
  }
 },
 "nbformat": 4,
 "nbformat_minor": 5
}
