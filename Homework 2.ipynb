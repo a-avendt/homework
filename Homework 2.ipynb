{
 "cells": [
  {
   "cell_type": "code",
   "execution_count": 1,
   "id": "808f2374",
   "metadata": {},
   "outputs": [
    {
     "name": "stdout",
     "output_type": "stream",
     "text": [
      "0\n",
      "1\n",
      "2\n",
      "3\n",
      "4\n"
     ]
    }
   ],
   "source": [
    "#1\n",
    "n = 0\n",
    "while n < 10:\n",
    "    print(n)\n",
    "    n = n +1 \n",
    "    if n == 5:\n",
    "        break   \n",
    "         "
   ]
  },
  {
   "cell_type": "code",
   "execution_count": 2,
   "id": "b347774a",
   "metadata": {},
   "outputs": [
    {
     "name": "stdout",
     "output_type": "stream",
     "text": [
      "0\n",
      "1\n",
      "2\n",
      "3\n",
      "4\n",
      "5 is not less than 5\n"
     ]
    }
   ],
   "source": [
    "#2\n",
    "n = 0\n",
    "while n < 5:\n",
    "    print(n)\n",
    "    n = n +1\n",
    "    if n >= 5:\n",
    "        print(n,\"is not less than 5\")"
   ]
  },
  {
   "cell_type": "code",
   "execution_count": 10,
   "id": "bc20b50d",
   "metadata": {},
   "outputs": [
    {
     "name": "stdout",
     "output_type": "stream",
     "text": [
      "I like strawberry\n",
      "I like orange\n",
      "I like blueberry\n",
      "apple is really a fruit?\n"
     ]
    }
   ],
   "source": [
    "#3\n",
    "fruitlist = [\"strawberry\", \"orange\", \"blueberry\", \"apple\", \"banana\"]\n",
    "special = \"apple\"\n",
    "for fruit in fruitlist:\n",
    "    if fruit == special:\n",
    "        print(special, \"is really a fruit?\")\n",
    "        break   \n",
    "    print(\"I like\", fruit)"
   ]
  },
  {
   "cell_type": "code",
   "execution_count": 4,
   "id": "f4b92a87",
   "metadata": {},
   "outputs": [
    {
     "name": "stdout",
     "output_type": "stream",
     "text": [
      "465\n"
     ]
    }
   ],
   "source": [
    "#4\n",
    "num = 0\n",
    "total = 0\n",
    "while num <= 30:\n",
    "    total += num\n",
    "    num += 1\n",
    "print(total)"
   ]
  },
  {
   "cell_type": "code",
   "execution_count": 12,
   "id": "fc019ef2",
   "metadata": {},
   "outputs": [
    {
     "name": "stdout",
     "output_type": "stream",
     "text": [
      "grade = C\n"
     ]
    }
   ],
   "source": [
    "#5\n",
    "grade = 75\n",
    "if grade >= 90:\n",
    "    print(\"grade = A\")\n",
    "elif grade >= 80:\n",
    "    print (\"grade = B\")\n",
    "elif grade >= 70:\n",
    "    print (\"grade = C\")\n",
    "elif grade >= 60:\n",
    "    print (\"grade = D\")\n",
    "else:\n",
    "    print (\"grade = F\")"
   ]
  },
  {
   "cell_type": "code",
   "execution_count": 14,
   "id": "ba5eebb9",
   "metadata": {},
   "outputs": [
    {
     "name": "stdout",
     "output_type": "stream",
     "text": [
      "Student name: Andy | Grade: 88\n",
      "Student name: Amy | Grade: 66\n",
      "Student name: James | Grade: 90\n",
      "Student name: Jules | Grade: 55\n",
      "Student name: Arthur | Grade: 77\n"
     ]
    }
   ],
   "source": [
    "#6\n",
    "marks = {\"Andy\": 88, \"Amy\": 66, \"James\": 90, \"Jules\": 55, \"Arthur\": 77}\n",
    "#6.1\n",
    "for name, grade in marks.items():\n",
    "    print(\"Student name:\",name,\"|\",\"Grade:\", grade)"
   ]
  },
  {
   "cell_type": "code",
   "execution_count": 7,
   "id": "cec2f614",
   "metadata": {},
   "outputs": [
    {
     "name": "stdout",
     "output_type": "stream",
     "text": [
      "Average: 75.2\n",
      "Minimum: 55\n",
      "Maximum 90\n"
     ]
    }
   ],
   "source": [
    "#6.2\n",
    "total = sum(marks.values())\n",
    "mean = total/len(marks.values())\n",
    "print(\"Average:\", mean)\n",
    "\n",
    "minimum = min(marks.values())\n",
    "print(\"Minimum:\", minimum)\n",
    "\n",
    "maximum = max(marks.values())\n",
    "print(\"Maximum\", maximum)"
   ]
  },
  {
   "cell_type": "code",
   "execution_count": 8,
   "id": "358392a5",
   "metadata": {},
   "outputs": [
    {
     "name": "stdout",
     "output_type": "stream",
     "text": [
      "Andy\n",
      "Amy\n"
     ]
    }
   ],
   "source": [
    "#6.3\n",
    "for name in marks:\n",
    "    if 'J' in name:\n",
    "        break\n",
    "    print(name)"
   ]
  },
  {
   "cell_type": "code",
   "execution_count": 9,
   "id": "127bbbd5",
   "metadata": {},
   "outputs": [
    {
     "name": "stdout",
     "output_type": "stream",
     "text": [
      "Andy\n",
      "Amy\n",
      "Arthur\n"
     ]
    }
   ],
   "source": [
    "for name in marks:\n",
    "    if 'J' in name:\n",
    "        continue\n",
    "    print(name)"
   ]
  },
  {
   "cell_type": "code",
   "execution_count": null,
   "id": "1d1e19c5",
   "metadata": {},
   "outputs": [],
   "source": []
  }
 ],
 "metadata": {
  "kernelspec": {
   "display_name": "Python 3 (ipykernel)",
   "language": "python",
   "name": "python3"
  },
  "language_info": {
   "codemirror_mode": {
    "name": "ipython",
    "version": 3
   },
   "file_extension": ".py",
   "mimetype": "text/x-python",
   "name": "python",
   "nbconvert_exporter": "python",
   "pygments_lexer": "ipython3",
   "version": "3.9.7"
  }
 },
 "nbformat": 4,
 "nbformat_minor": 5
}
